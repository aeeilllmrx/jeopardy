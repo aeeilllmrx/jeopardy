{
 "cells": [
  {
   "cell_type": "markdown",
   "metadata": {},
   "source": [
    "testing jeopardy stuff\n"
   ]
  },
  {
   "cell_type": "code",
   "execution_count": 16,
   "metadata": {
    "collapsed": false
   },
   "outputs": [],
   "source": [
    "\n",
    "from bs4 import BeautifulSoup as bs\n",
    "from urllib2 import urlopen"
   ]
  },
  {
   "cell_type": "markdown",
   "metadata": {},
   "source": [
    "instead of analyzing each game, let's try to categorize some of the questions that appear.\n",
    "\n",
    "we'll pull all the clues and set aside a separate category for all the finals."
   ]
  },
  {
   "cell_type": "code",
   "execution_count": 41,
   "metadata": {
    "collapsed": false
   },
   "outputs": [],
   "source": [
    "urls = [\"http://www.j-archive.com/showgame.php?game_id=\" + str(i) for i in xrange(5000)]\n",
    "\n",
    "clues = []; finals = []\n",
    "\n",
    "for url in urls[:4900]:\n",
    "    \n",
    "    sock = urlopen(url)\n",
    "    lines = sock.read()\n",
    "    sock.close()\n",
    "    \n",
    "    soup = bs(str(lines))\n",
    "\n",
    "    # clues\n",
    "    for i in range(1,7):\n",
    "        for j in range(1,7):\n",
    "            try:\n",
    "                clues.append(soup.find(id = 'clue_J_' + str(i) + '_' + str(j)).get_text())\n",
    "                clues.append(soup.find(id = 'clue_DJ_' + str(i) + '_' + str(j)).get_text())\n",
    "            except AttributeError:\n",
    "                continue\n",
    "\n",
    "    # final\n",
    "    try:\n",
    "        finals.append(soup.find(id = 'clue_FJ').get_text())\n",
    "    except AttributeError:\n",
    "        continue\n"
   ]
  },
  {
   "cell_type": "code",
   "execution_count": 2,
   "metadata": {
    "collapsed": false
   },
   "outputs": [],
   "source": [
    "import pickle\n",
    "\n",
    "with open(\"j-clues.txt\", 'rb') as f:\n",
    "    clues = pickle.load(f)\n",
    "f.close()\n",
    "\n",
    "with open(\"j-finals.txt\", 'rb') as f:\n",
    "    finals = pickle.load(f)\n",
    "f.close()"
   ]
  },
  {
   "cell_type": "markdown",
   "metadata": {},
   "source": [
    "annoying directory nonsense"
   ]
  },
  {
   "cell_type": "code",
   "execution_count": 1,
   "metadata": {
    "collapsed": false
   },
   "outputs": [],
   "source": [
    "import sys\n",
    "sys.path.append(\"/usr/local/lib/python2.7/site-packages\")"
   ]
  },
  {
   "cell_type": "code",
   "execution_count": 3,
   "metadata": {
    "collapsed": true
   },
   "outputs": [],
   "source": []
  },
  {
   "cell_type": "code",
   "execution_count": 12,
   "metadata": {
    "collapsed": false
   },
   "outputs": [
    {
     "name": "stdout",
     "output_type": "stream",
     "text": [
      "here?\n"
     ]
    }
   ],
   "source": [
    "from nltk.stem import PorterStemmer\n",
    "stemmer = PorterStemmer()\n",
    "\n",
    "from nltk import word_tokenize\n",
    "from nltk.stem.wordnet import WordNetLemmatizer\n",
    "from nltk import pos_tag\n",
    "\n",
    "wordnet_tags = ['n','v']\n",
    "def lemmatize(token, tag):\n",
    "    if tag.lower() in ['n','v']:\n",
    "        return lemmatizer.lemmatize(token, tag.lower())\n",
    "    return token\n",
    "lemmatizer = WordNetLemmatizer()\n",
    "print \"here?\"\n",
    "tagged = [pos_tag(word_tokenize(sentence)) for sentence in clues[100]]"
   ]
  },
  {
   "cell_type": "markdown",
   "metadata": {},
   "source": [
    "first step is to turn clues into a matrix.\n",
    "rows = words, columns = sentences"
   ]
  },
  {
   "cell_type": "code",
   "execution_count": 3,
   "metadata": {
    "collapsed": false
   },
   "outputs": [],
   "source": [
    "# remove stop words from clues\n",
    "\n",
    "from nltk.corpus import stopwords\n",
    "\n",
    "cachedStopWords = stopwords.words(\"english\")\n",
    "\n",
    "def remove_stops(text):\n",
    "    copy = []\n",
    "    for sentence in text:\n",
    "        copy.append(' '.join([word for word in sentence.split() if word not in cachedStopWords]))\n",
    "    return copy\n",
    "\n",
    "s_clues = remove_stops(clues)\n"
   ]
  },
  {
   "cell_type": "code",
   "execution_count": 6,
   "metadata": {
    "collapsed": false
   },
   "outputs": [],
   "source": [
    "# transform clues into vectors of 0/1 using vocabulary list above\n",
    "\n",
    "from sklearn.feature_extraction.text import CountVectorizer\n",
    "\n",
    "vectorizer = CountVectorizer(stop_words = 'english')\n",
    "dense = vectorizer.fit_transform(clues).todense()\n",
    "words = vectorizer.vocabulary_\n"
   ]
  },
  {
   "cell_type": "code",
   "execution_count": 20,
   "metadata": {
    "collapsed": false
   },
   "outputs": [],
   "source": [
    "td_matrix = dense.T"
   ]
  },
  {
   "cell_type": "code",
   "execution_count": 21,
   "metadata": {
    "collapsed": false
   },
   "outputs": [
    {
     "data": {
      "text/plain": [
       "(39073, 37457)"
      ]
     },
     "execution_count": 21,
     "metadata": {},
     "output_type": "execute_result"
    }
   ],
   "source": [
    "td_matrix.shape"
   ]
  },
  {
   "cell_type": "code",
   "execution_count": 22,
   "metadata": {
    "collapsed": true
   },
   "outputs": [],
   "source": [
    "from math import log\n",
    "from numpy import asarray, sum"
   ]
  },
  {
   "cell_type": "code",
   "execution_count": 29,
   "metadata": {
    "collapsed": false
   },
   "outputs": [],
   "source": [
    "def TFIDF(mat):\n",
    "    WordsPerDoc = sum(mat, axis=0) \n",
    "    DocsPerWord = sum(asarray(mat > 0, 'i'), axis=1) \n",
    "    rows, cols = mat.shape \n",
    "    for i in range(rows):\n",
    "        for j in range(cols):\n",
    "            try:\n",
    "                mat[i,j] = (mat[i,j] / WordsPerDoc[j]) * log(float(cols) / DocsPerWord[i])\n",
    "            except ValueError:\n",
    "                mat[i,j] = 0"
   ]
  },
  {
   "cell_type": "code",
   "execution_count": null,
   "metadata": {
    "collapsed": true
   },
   "outputs": [],
   "source": [
    "from numpy import zeros\n",
    "from scipy.linalg import svd\n",
    "\n",
    "U, S, V = svd(td_matrix, full_matrices=False)"
   ]
  },
  {
   "cell_type": "code",
   "execution_count": null,
   "metadata": {
    "collapsed": true
   },
   "outputs": [],
   "source": [
    "print(\"hello\")"
   ]
  },
  {
   "cell_type": "code",
   "execution_count": 41,
   "metadata": {
    "collapsed": false
   },
   "outputs": [],
   "source": [
    "# make numpy matrix of these vectors\n",
    " \n"
   ]
  }
 ],
 "metadata": {
  "kernelspec": {
   "display_name": "Python 2",
   "language": "python",
   "name": "python2"
  },
  "language_info": {
   "codemirror_mode": {
    "name": "ipython",
    "version": 2
   },
   "file_extension": ".py",
   "mimetype": "text/x-python",
   "name": "python",
   "nbconvert_exporter": "python",
   "pygments_lexer": "ipython2",
   "version": "2.7.6"
  }
 },
 "nbformat": 4,
 "nbformat_minor": 0
}
