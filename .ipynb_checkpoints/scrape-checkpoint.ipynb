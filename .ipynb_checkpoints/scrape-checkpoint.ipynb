{
 "cells": [
  {
   "cell_type": "code",
   "execution_count": 53,
   "metadata": {
    "collapsed": true
   },
   "outputs": [],
   "source": [
    "from bs4 import BeautifulSoup as bs\n",
    "from urllib2 import urlopen\n",
    "import pickle\n",
    "import re"
   ]
  },
  {
   "cell_type": "code",
   "execution_count": 54,
   "metadata": {
    "collapsed": false
   },
   "outputs": [],
   "source": [
    "def get_info(url):\n",
    "\n",
    "    sock = urlopen(url)\n",
    "    lines = sock.read()\n",
    "    sock.close()\n",
    "    soup = bs(str(lines))\n",
    "    \n",
    "    return soup"
   ]
  },
  {
   "cell_type": "code",
   "execution_count": 55,
   "metadata": {
    "collapsed": false
   },
   "outputs": [],
   "source": [
    "def get_jclue(soup, clue, level):\n",
    "    \n",
    "    try:\n",
    "        return soup.find(id = 'clue_J_{0}_{1}'.format(clue, level)).get_text()\n",
    "    except AttributeError:\n",
    "        return None\n",
    "    \n",
    "def get_djclue(soup, clue, level):\n",
    "    \n",
    "    try:\n",
    "        return soup.find(id = 'clue_DJ_{0}_{1}'.format(clue, level)).get_text()\n",
    "    except AttributeError:\n",
    "        return None\n",
    "    \n",
    "def get_janswer(soup, clue, level):\n",
    "    \n",
    "    try:\n",
    "        result = soup.find(\"div\", {\"onclick\":\"togglestick('clue_J_{0}_{1}_stuck')\".format(clue, level)}) \n",
    "        res = result.prettify().encode(\"utf-8\")\n",
    "        start = re.search(r'correct_response&quot;&gt;', res).end()\n",
    "        end = re.search(r'&lt;/em&gt;&lt;br', res).start()\n",
    "        return res[start : end]\n",
    "    except AttributeError:\n",
    "        return None\n",
    "\n",
    "def get_djanswer(soup, clue, level):\n",
    "    \n",
    "    try:\n",
    "        result = soup.find(\"div\", {\"onclick\":\"togglestick('clue_DJ_{0}_{1}_stuck')\".format(clue, level)}) \n",
    "        res = result.prettify().encode(\"utf-8\")\n",
    "        start = re.search(r'correct_response&quot;&gt;', res).end()\n",
    "        end = re.search(r'&lt;/em&gt;&lt;br', res).start()\n",
    "        return res[start : end]\n",
    "    except AttributeError:\n",
    "        return None\n",
    "\n",
    "def get_finalclue(soup):\n",
    "    \n",
    "    try:\n",
    "        return soup.find(id = 'clue_FJ').get_text()\n",
    "    except AttributeError:\n",
    "        return None\n",
    "    \n",
    "def get_finalanswer(soup):\n",
    "    \n",
    "    try:\n",
    "        result = soup.find(\"div\", {\"onclick\":\"togglestick('clue_FJ_stuck')\"})\n",
    "        res = result.prettify().encode(\"utf-8\")\n",
    "        start = re.search(r'correct_response', res).end()\n",
    "        try:\n",
    "            end = re.search(r'&lt;/i&gt;', res).start()\n",
    "        except AttributeError:\n",
    "            end = re.search(r'&lt;/em&gt;', res).start()\n",
    "        return res[start + 11: end]\n",
    "    except AttributeError:\n",
    "        return None\n",
    "    \n",
    "def get_cats(soup):\n",
    "    \n",
    "    catsoup = soup.find_all(\"td\", {\"class\":\"category_name\"})\n",
    "    cats = [catsoup[i].get_text() for i in range(len(catsoup))]\n",
    "    jcats = cats[:6]; djcats = cats[6:12]; fcat = cats[12]\n",
    "    return jcats, djcats, fcat"
   ]
  },
  {
   "cell_type": "code",
   "execution_count": 56,
   "metadata": {
    "collapsed": false
   },
   "outputs": [],
   "source": [
    "def extract(soup):\n",
    "    \n",
    "    j_round = [[[] for i in range(6)] for j in range(6)]\n",
    "    dj_round = [[[] for i in range(6)] for j in range(6)]\n",
    "\n",
    "    for i in range(1,7):\n",
    "        for j in range(1,7):\n",
    "            j_round[i-1][j-1] = [get_jclue(soup, i, j), get_janswer(soup, i, j)]\n",
    "            dj_round[i-1][j-1] = [get_djclue(soup, i, j), get_djanswer(soup, i, j)]\n",
    "      \n",
    "    jcats, djcats, fcat = get_cats(soup)\n",
    "    \n",
    "    final = [fcat, get_finalclue(soup), get_finalanswer(soup)]\n",
    "    \n",
    "    return j_round, dj_round, final, jcats, djcats"
   ]
  },
  {
   "cell_type": "code",
   "execution_count": 57,
   "metadata": {
    "collapsed": false
   },
   "outputs": [],
   "source": [
    "\n",
    "def save(j, dj, final, jc, djc):\n",
    "    \n",
    "    pickle.dump(j, open(\"j_round.txt\", \"wb\"))\n",
    "    pickle.dump(dj, open(\"dj_round.txt\", \"wb\"))\n",
    "    pickle.dump(final, open(\"finals.txt\", \"wb\"))\n",
    "    pickle.dump(jc, open(\"j_cats.txt\", \"wb\"))\n",
    "    pickle.dump(djc, open(\"dj_cats.txt\", \"wb\"))\n",
    "    "
   ]
  },
  {
   "cell_type": "code",
   "execution_count": 58,
   "metadata": {
    "collapsed": false
   },
   "outputs": [],
   "source": [
    "urls = [\"http://www.j-archive.com/showgame.php?game_id=\" + str(i) for i in xrange(30, 35)]\n",
    "\n",
    "j = []; dj = []; final = []\n",
    "jc = []; djc = []\n",
    "\n",
    "for i, u in enumerate(urls):\n",
    "    if i == 0:\n",
    "        continue\n",
    "    # print i, url\n",
    "    soup = get_info(u)\n",
    "    j_round, dj_round, final_round, jcats, djcats = extract(soup)\n",
    "    j.append(j_round)\n",
    "    dj.append(dj_round)\n",
    "    final.append(final_round)\n",
    "    jc.append(jcats)\n",
    "    djc.append(djcats)\n",
    "    \n",
    "save(j, dj, final, jc, djc)\n",
    "    \n",
    "    "
   ]
  },
  {
   "cell_type": "code",
   "execution_count": 59,
   "metadata": {
    "collapsed": false
   },
   "outputs": [],
   "source": []
  }
 ],
 "metadata": {
  "kernelspec": {
   "display_name": "Python 2",
   "language": "python",
   "name": "python2"
  },
  "language_info": {
   "codemirror_mode": {
    "name": "ipython",
    "version": 2
   },
   "file_extension": ".py",
   "mimetype": "text/x-python",
   "name": "python",
   "nbconvert_exporter": "python",
   "pygments_lexer": "ipython2",
   "version": "2.7.10"
  }
 },
 "nbformat": 4,
 "nbformat_minor": 0
}
